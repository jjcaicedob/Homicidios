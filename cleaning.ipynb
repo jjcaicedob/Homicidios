{
 "cells": [
  {
   "cell_type": "code",
   "execution_count": 1,
   "metadata": {},
   "outputs": [],
   "source": [
    "# Data cleaning means fixing bad data in your data set. Bad data could be:\n",
    "# - Empty cells: dropna(), fillna()\n",
    "# - Data in wrong format: to_datetime()\n",
    "# - Wrong data: loc(), replace()\n",
    "# - Duplicates: drop_duplicates()\n",
    "\n",
    "# Pandas is a Python library used for working with data sets.\n",
    "# It has functions for analyzing, cleaning, exploring, and manipulating data.\n",
    "# The name \"Pandas\" has a reference to both \"Panel Data\", and \"Python Data Analysis\" and was created by Wes McKinney in 2008.\n",
    "\n",
    "# Import it in your applications by adding the import keyword.\n",
    "# Pandas is usually imported under the pd alias. In Python alias are an alternate name for referring to the same thing.\n",
    "# Now the Pandas package can be referred to as pd instead of pandas.\n",
    "import pandas as pd"
   ]
  },
  {
   "cell_type": "code",
   "execution_count": 2,
   "metadata": {},
   "outputs": [],
   "source": [
    "# A Pandas DataFrame is a 2 dimensional data structure, like a 2 dimensional array, or a table with rows and columns.\n",
    "# Here the DataFrame is called df.\n",
    "# A simple way to store big data sets is to use CSV files (comma separated files).\n",
    "# CSV files contains plain text and is a well know format that can be read by everyone including Pandas.\n",
    "\n",
    "# Load a CSV file into a Pandas DataFrame\n",
    "df = pd.read_csv(\"homicidios_source.csv\")"
   ]
  },
  {
   "cell_type": "code",
   "execution_count": 3,
   "metadata": {},
   "outputs": [
    {
     "data": {
      "text/plain": [
       "(84294, 9)"
      ]
     },
     "execution_count": 3,
     "metadata": {},
     "output_type": "execute_result"
    }
   ],
   "source": [
    "# Return a tuple representing the dimensionality of the DataFrame.\n",
    "# First value  = Number of Rows including the header.\n",
    "# Second value = Number of Columns.\n",
    "df.shape"
   ]
  },
  {
   "cell_type": "code",
   "execution_count": 4,
   "metadata": {},
   "outputs": [
    {
     "name": "stdout",
     "output_type": "stream",
     "text": [
      "<class 'pandas.core.frame.DataFrame'>\n",
      "RangeIndex: 84294 entries, 0 to 84293\n",
      "Data columns (total 9 columns):\n",
      " #   Column                Non-Null Count  Dtype  \n",
      "---  ------                --------------  -----  \n",
      " 0   DEPARTAMENTO          82354 non-null  object \n",
      " 1   MUNICIPIO             82354 non-null  object \n",
      " 2   CODIGO DANE           82354 non-null  float64\n",
      " 3   ARMAS MEDIOS          82354 non-null  object \n",
      " 4   FECHA HECHO           82354 non-null  object \n",
      " 5   GENERO                82354 non-null  object \n",
      " 6   GRUPO ETARÍO          82354 non-null  object \n",
      " 7   DESCRIPCIÓN CONDUCTA  84294 non-null  object \n",
      " 8   CANTIDAD              82354 non-null  float64\n",
      "dtypes: float64(2), object(7)\n",
      "memory usage: 5.8+ MB\n"
     ]
    }
   ],
   "source": [
    "# Use the method info(), that gives you information about the data set.\n",
    "df.info()"
   ]
  },
  {
   "cell_type": "code",
   "execution_count": 5,
   "metadata": {},
   "outputs": [],
   "source": [
    "# Use the drop() method to remove columns that are not needed for analysis \n",
    "# Save in a new DataFrame called df_cleaned\n",
    "df_cleaned = df.drop(columns=[\"CODIGO DANE\", \"DESCRIPCIÓN CONDUCTA\"])"
   ]
  },
  {
   "cell_type": "code",
   "execution_count": 6,
   "metadata": {},
   "outputs": [
    {
     "name": "stdout",
     "output_type": "stream",
     "text": [
      "<class 'pandas.core.frame.DataFrame'>\n",
      "RangeIndex: 84294 entries, 0 to 84293\n",
      "Data columns (total 7 columns):\n",
      " #   Column        Non-Null Count  Dtype  \n",
      "---  ------        --------------  -----  \n",
      " 0   DEPARTAMENTO  82354 non-null  object \n",
      " 1   MUNICIPIO     82354 non-null  object \n",
      " 2   ARMAS MEDIOS  82354 non-null  object \n",
      " 3   FECHA HECHO   82354 non-null  object \n",
      " 4   GENERO        82354 non-null  object \n",
      " 5   GRUPO ETARÍO  82354 non-null  object \n",
      " 6   CANTIDAD      82354 non-null  float64\n",
      "dtypes: float64(1), object(6)\n",
      "memory usage: 4.5+ MB\n"
     ]
    }
   ],
   "source": [
    "# Use the method info(), that gives you information about the new data set.\n",
    "# Deleted columns are no longer displayed\n",
    "df_cleaned.info()"
   ]
  },
  {
   "cell_type": "code",
   "execution_count": 7,
   "metadata": {},
   "outputs": [
    {
     "name": "stdout",
     "output_type": "stream",
     "text": [
      "<class 'pandas.core.frame.DataFrame'>\n",
      "RangeIndex: 84294 entries, 0 to 84293\n",
      "Data columns (total 7 columns):\n",
      " #   Column        Non-Null Count  Dtype  \n",
      "---  ------        --------------  -----  \n",
      " 0   DEPARTAMENTO  82354 non-null  object \n",
      " 1   MUNICIPIO     82354 non-null  object \n",
      " 2   ARMAS_MEDIOS  82354 non-null  object \n",
      " 3   FECHA_HECHO   82354 non-null  object \n",
      " 4   GENERO        82354 non-null  object \n",
      " 5   GRUPO_ETARIO  82354 non-null  object \n",
      " 6   CANTIDAD      82354 non-null  float64\n",
      "dtypes: float64(1), object(6)\n",
      "memory usage: 4.5+ MB\n"
     ]
    }
   ],
   "source": [
    "# To rename a column in a pandas DataFrame in Python, you can use the .rename() method\n",
    "# inplace=True causes the change to be made directly on the DataFrame without having to assign the result to a new variable.\n",
    "\n",
    "# ARMAS MEDIOS\n",
    "df_cleaned.rename(columns={'ARMAS MEDIOS': 'ARMAS_MEDIOS'}, inplace=True)\n",
    "\n",
    "# FECHA HECHO\n",
    "df_cleaned.rename(columns={'FECHA HECHO': 'FECHA_HECHO'}, inplace=True)\n",
    "\n",
    "# GRUPO ETARÍO\n",
    "df_cleaned.rename(columns={'GRUPO ETARÍO': 'GRUPO_ETARIO'}, inplace=True)\n",
    "\n",
    "# Use the method info(), that gives you information about the new data set.\n",
    "df_cleaned.info()"
   ]
  },
  {
   "cell_type": "code",
   "execution_count": 8,
   "metadata": {},
   "outputs": [],
   "source": [
    "# Use the dropna() method to remove rows with null values.\n",
    "# Note: By default, the dropna() method returns a new DataFrame, and will not change the original.\n",
    "# If you want to change the original DataFrame, use the inplace = True argument: df.dropna(inplace = True)\n",
    "\n",
    "# Use the following line if you want to remove rows with null values ​​for only some columns:\n",
    "# df_cleaned = df_cleaned.dropna(subset=[\"DEPARTAMENTO\", \"MUNICIPIO\", \"ARMAS MEDIOS\", \"FECHA HECHO\", \"GENERO\", \"GRUPO ETARÍO\", \"CANTIDAD\"])\n",
    "\n",
    "# Use the following line if you want to remove rows with null values for all columns:\n",
    "df_cleaned = df_cleaned.dropna()"
   ]
  },
  {
   "cell_type": "code",
   "execution_count": 9,
   "metadata": {},
   "outputs": [
    {
     "data": {
      "text/plain": [
       "(82354, 7)"
      ]
     },
     "execution_count": 9,
     "metadata": {},
     "output_type": "execute_result"
    }
   ],
   "source": [
    "# Return a tuple representing the dimensionality of the DataFrame.\n",
    "# First value  = Number of Rows including the header.\n",
    "# Second value = Number of Columns.\n",
    "df_cleaned.shape"
   ]
  },
  {
   "cell_type": "code",
   "execution_count": 10,
   "metadata": {},
   "outputs": [
    {
     "data": {
      "text/plain": [
       "1940"
      ]
     },
     "execution_count": 10,
     "metadata": {},
     "output_type": "execute_result"
    }
   ],
   "source": [
    "# Get and display the number of deleted rows\n",
    "rows_before = df.shape[0]\n",
    "rows_after = df_cleaned.shape[0]\n",
    "\n",
    "rows_before - rows_after"
   ]
  },
  {
   "cell_type": "code",
   "execution_count": 11,
   "metadata": {},
   "outputs": [
    {
     "name": "stdout",
     "output_type": "stream",
     "text": [
      "<class 'pandas.core.frame.DataFrame'>\n",
      "Index: 82354 entries, 0 to 82353\n",
      "Data columns (total 7 columns):\n",
      " #   Column        Non-Null Count  Dtype  \n",
      "---  ------        --------------  -----  \n",
      " 0   DEPARTAMENTO  82354 non-null  object \n",
      " 1   MUNICIPIO     82354 non-null  object \n",
      " 2   ARMAS_MEDIOS  82354 non-null  object \n",
      " 3   FECHA_HECHO   82354 non-null  object \n",
      " 4   GENERO        82354 non-null  object \n",
      " 5   GRUPO_ETARIO  82354 non-null  object \n",
      " 6   CANTIDAD      82354 non-null  float64\n",
      "dtypes: float64(1), object(6)\n",
      "memory usage: 5.0+ MB\n"
     ]
    }
   ],
   "source": [
    "# Use the method info(), that gives you information about the new data set.\n",
    "# Deleted columns and and rowswith null values are no longer displayed\n",
    "df_cleaned.info()"
   ]
  },
  {
   "cell_type": "code",
   "execution_count": 12,
   "metadata": {},
   "outputs": [
    {
     "name": "stdout",
     "output_type": "stream",
     "text": [
      "<class 'pandas.core.frame.DataFrame'>\n",
      "Index: 82354 entries, 0 to 82353\n",
      "Data columns (total 7 columns):\n",
      " #   Column        Non-Null Count  Dtype \n",
      "---  ------        --------------  ----- \n",
      " 0   DEPARTAMENTO  82354 non-null  string\n",
      " 1   MUNICIPIO     82354 non-null  string\n",
      " 2   ARMAS_MEDIOS  82354 non-null  string\n",
      " 3   FECHA_HECHO   82354 non-null  object\n",
      " 4   GENERO        82354 non-null  string\n",
      " 5   GRUPO_ETARIO  82354 non-null  string\n",
      " 6   CANTIDAD      82354 non-null  int64 \n",
      "dtypes: int64(1), object(1), string(5)\n",
      "memory usage: 5.0+ MB\n"
     ]
    }
   ],
   "source": [
    "# Adjusting data types\n",
    "df_cleaned['DEPARTAMENTO'] = df_cleaned['DEPARTAMENTO'].astype('string')\n",
    "df_cleaned['MUNICIPIO'] = df_cleaned['MUNICIPIO'].astype('string')\n",
    "df_cleaned['ARMAS_MEDIOS'] = df_cleaned['ARMAS_MEDIOS'].astype('string')\n",
    "df_cleaned['GENERO'] = df_cleaned['GENERO'].astype('string')\n",
    "df_cleaned['GRUPO_ETARIO'] = df_cleaned['GRUPO_ETARIO'].astype('string')\n",
    "df_cleaned['CANTIDAD'] = df_cleaned['CANTIDAD'].astype('int')\n",
    "\n",
    "# Show the DataFrame again\n",
    "df_cleaned.info()"
   ]
  },
  {
   "cell_type": "code",
   "execution_count": 13,
   "metadata": {},
   "outputs": [],
   "source": [
    "# The to_datetime() method try to convert all cells in the FECHA_HECHO column into dates.\n",
    "# The empty dates and dates with wrong format got a NaT (Not a Time) value, in other words an empty value.\n",
    "df_cleaned.FECHA_HECHO = pd.to_datetime(df_cleaned.FECHA_HECHO, format=\"%d/%m/%Y\")"
   ]
  },
  {
   "cell_type": "code",
   "execution_count": 14,
   "metadata": {},
   "outputs": [],
   "source": [
    "# Remove rows with a NULL value in the FECHA_HECHO column\n",
    "df_cleaned.dropna(subset=[\"FECHA_HECHO\"], inplace = True)"
   ]
  },
  {
   "cell_type": "code",
   "execution_count": 15,
   "metadata": {},
   "outputs": [
    {
     "data": {
      "text/plain": [
       "count                            82354\n",
       "mean     2018-07-18 01:07:26.491973632\n",
       "min                2010-01-01 00:00:00\n",
       "25%                2014-12-24 00:00:00\n",
       "50%                2019-01-01 00:00:00\n",
       "75%                2022-08-06 00:00:00\n",
       "max                2024-10-31 00:00:00\n",
       "Name: FECHA_HECHO, dtype: object"
      ]
     },
     "execution_count": 15,
     "metadata": {},
     "output_type": "execute_result"
    }
   ],
   "source": [
    "# Check if dates with invalid formats were removed\n",
    "# In this case all formats are correct\n",
    "df_cleaned.FECHA_HECHO.describe()"
   ]
  },
  {
   "cell_type": "code",
   "execution_count": 16,
   "metadata": {},
   "outputs": [
    {
     "data": {
      "text/plain": [
       "['BICICLETA',\n",
       " 'CONTUNDENTES',\n",
       " 'MOTO',\n",
       " 'NO REPORTADO',\n",
       " 'NO REPOTADO',\n",
       " 'SIN EMPLEO DE ARMAS',\n",
       " 'TREN',\n",
       " 'VEHICULO']"
      ]
     },
     "execution_count": 16,
     "metadata": {},
     "output_type": "execute_result"
    }
   ],
   "source": [
    "# Get the 8 unique values ​​from the ARMAS_MEDIOS column in alphabetical order\n",
    "sorted(df_cleaned.ARMAS_MEDIOS.unique())"
   ]
  },
  {
   "cell_type": "code",
   "execution_count": 17,
   "metadata": {},
   "outputs": [],
   "source": [
    "# Replace 'NO REPOTADO' by 'NO REPORTADO' in column ARMAS_MEDIOS\n",
    "df_cleaned.ARMAS_MEDIOS = df_cleaned.ARMAS_MEDIOS.replace(\"NO REPOTADO\", \"NO REPORTADO\")"
   ]
  },
  {
   "cell_type": "code",
   "execution_count": 18,
   "metadata": {},
   "outputs": [
    {
     "data": {
      "text/plain": [
       "['BICICLETA',\n",
       " 'CONTUNDENTES',\n",
       " 'MOTO',\n",
       " 'NO REPORTADO',\n",
       " 'SIN EMPLEO DE ARMAS',\n",
       " 'TREN',\n",
       " 'VEHICULO']"
      ]
     },
     "execution_count": 18,
     "metadata": {},
     "output_type": "execute_result"
    }
   ],
   "source": [
    "# Get the new unique values ​​from the ARMAS_MEDIOS column\n",
    "sorted(df_cleaned.ARMAS_MEDIOS.unique())"
   ]
  },
  {
   "cell_type": "code",
   "execution_count": 19,
   "metadata": {},
   "outputs": [
    {
     "data": {
      "text/plain": [
       "['FEMENINO', 'MASCULINO', 'NO REPORTA', 'NO REPORTADO', 'NO REPOTADO']"
      ]
     },
     "execution_count": 19,
     "metadata": {},
     "output_type": "execute_result"
    }
   ],
   "source": [
    "# Get the 5 unique values ​​from the GENERO column in alphabetical order\n",
    "sorted(df_cleaned.GENERO.unique())"
   ]
  },
  {
   "cell_type": "code",
   "execution_count": 20,
   "metadata": {},
   "outputs": [],
   "source": [
    "# Replace 'NO REPORTADO' by 'NO REPORTA' in column GENERO\n",
    "df_cleaned.GENERO = df_cleaned.GENERO.replace(\"NO REPORTADO\", \"NO REPORTA\")\n",
    "\n",
    "# Replace 'NO REPOTADO' by 'NO REPORTA' in column GENERO\n",
    "df_cleaned.GENERO = df_cleaned.GENERO.replace(\"NO REPOTADO\", \"NO REPORTA\")"
   ]
  },
  {
   "cell_type": "code",
   "execution_count": 21,
   "metadata": {},
   "outputs": [
    {
     "data": {
      "text/plain": [
       "['FEMENINO', 'MASCULINO', 'NO REPORTA']"
      ]
     },
     "execution_count": 21,
     "metadata": {},
     "output_type": "execute_result"
    }
   ],
   "source": [
    "# Get the new unique values ​​from the GENERO column\n",
    "sorted(df_cleaned.GENERO.unique())"
   ]
  },
  {
   "cell_type": "code",
   "execution_count": 22,
   "metadata": {},
   "outputs": [
    {
     "data": {
      "text/plain": [
       "['ADOLESCENTES', 'ADULTOS', 'MENORES', 'NO REPORTADO', 'NO REPOTADO']"
      ]
     },
     "execution_count": 22,
     "metadata": {},
     "output_type": "execute_result"
    }
   ],
   "source": [
    "# Get the 5 unique values ​​from the GRUPO_ETARIO column in alphabetical order\n",
    "sorted(df_cleaned.GRUPO_ETARIO.unique())"
   ]
  },
  {
   "cell_type": "code",
   "execution_count": 23,
   "metadata": {},
   "outputs": [],
   "source": [
    "# Replace 'NO REPOTADO' by 'NO REPORTADO' in column GRUPO_ETARIO\n",
    "df_cleaned.GRUPO_ETARIO = df_cleaned.GRUPO_ETARIO.replace(\"NO REPOTADO\", \"NO REPORTADO\")"
   ]
  },
  {
   "cell_type": "code",
   "execution_count": 24,
   "metadata": {},
   "outputs": [
    {
     "data": {
      "text/plain": [
       "['ADOLESCENTES', 'ADULTOS', 'MENORES', 'NO REPORTADO']"
      ]
     },
     "execution_count": 24,
     "metadata": {},
     "output_type": "execute_result"
    }
   ],
   "source": [
    "# Get the new unique values ​​from the GRUPO_ETARIO column\n",
    "sorted(df_cleaned.GRUPO_ETARIO.unique())"
   ]
  },
  {
   "cell_type": "code",
   "execution_count": 25,
   "metadata": {},
   "outputs": [],
   "source": [
    "# The drop_duplicates() method remove all duplicates\n",
    "# subset: Specifies the columns on which to check for duplicates. If not specified, all values ​​in the rows are checked.\n",
    "# keep: Decides which of the duplicates to keep.\n",
    "# inplace: If set to True, the DataFrame will be modified directly without the need to reallocate it.\n",
    "df_cleaned.drop_duplicates(subset=None, keep='first', inplace=True)"
   ]
  },
  {
   "cell_type": "code",
   "execution_count": 26,
   "metadata": {},
   "outputs": [
    {
     "data": {
      "text/plain": [
       "(76467, 7)"
      ]
     },
     "execution_count": 26,
     "metadata": {},
     "output_type": "execute_result"
    }
   ],
   "source": [
    "# Return a tuple representing the dimensionality of the DataFrame.\n",
    "# First value  = Number of Rows including the header.\n",
    "# Second value = Number of Columns.\n",
    "df_cleaned.shape"
   ]
  },
  {
   "cell_type": "code",
   "execution_count": 27,
   "metadata": {},
   "outputs": [
    {
     "name": "stdout",
     "output_type": "stream",
     "text": [
      "<class 'pandas.core.frame.DataFrame'>\n",
      "Index: 76467 entries, 0 to 82353\n",
      "Data columns (total 7 columns):\n",
      " #   Column        Non-Null Count  Dtype         \n",
      "---  ------        --------------  -----         \n",
      " 0   DEPARTAMENTO  76467 non-null  string        \n",
      " 1   MUNICIPIO     76467 non-null  string        \n",
      " 2   ARMAS_MEDIOS  76467 non-null  string        \n",
      " 3   FECHA_HECHO   76467 non-null  datetime64[ns]\n",
      " 4   GENERO        76467 non-null  string        \n",
      " 5   GRUPO_ETARIO  76467 non-null  string        \n",
      " 6   CANTIDAD      76467 non-null  int64         \n",
      "dtypes: datetime64[ns](1), int64(1), string(5)\n",
      "memory usage: 4.7 MB\n"
     ]
    }
   ],
   "source": [
    "# Use the method info(), that gives you information about the new data set.\n",
    "# Deleted columns and and rowswith null values are no longer displayed\n",
    "df_cleaned.info()"
   ]
  },
  {
   "cell_type": "code",
   "execution_count": 28,
   "metadata": {},
   "outputs": [
    {
     "name": "stdout",
     "output_type": "stream",
     "text": [
      "\n",
      "El archivo CSV ha sido guardado.\n"
     ]
    }
   ],
   "source": [
    "# Save the cleaned DataFrame to a CSV file\n",
    "# index=False to not save indexes as a column\n",
    "df_cleaned.to_csv(\"homicidios_clean.csv\", index=False)\n",
    "\n",
    "print(\"\\nEl archivo CSV ha sido guardado.\")"
   ]
  }
 ],
 "metadata": {
  "kernelspec": {
   "display_name": "Python 3",
   "language": "python",
   "name": "python3"
  },
  "language_info": {
   "codemirror_mode": {
    "name": "ipython",
    "version": 3
   },
   "file_extension": ".py",
   "mimetype": "text/x-python",
   "name": "python",
   "nbconvert_exporter": "python",
   "pygments_lexer": "ipython3",
   "version": "3.13.2"
  }
 },
 "nbformat": 4,
 "nbformat_minor": 2
}
